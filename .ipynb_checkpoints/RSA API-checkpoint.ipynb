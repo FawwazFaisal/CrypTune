{
 "cells": [
  {
   "cell_type": "code",
   "execution_count": 4,
   "metadata": {},
   "outputs": [
    {
     "name": "stdout",
     "output_type": "stream",
     "text": [
      "Enter the value of p = 51\n",
      "Enter the value of q = 61\n",
      "Enter the value of text = 3\n",
      "n = 3111 e = 7 t = 3000 d = 2143 cipher text = 2187 decrypted text = 1833\n"
     ]
    }
   ],
   "source": [
    "# Write Python3 code here \n",
    "from decimal import Decimal \n",
    "\n",
    "def gcd(a,b): \n",
    "\tif b==0: \n",
    "\t\treturn a \n",
    "\telse: \n",
    "\t\treturn gcd(b,a%b) \n",
    "p = int(input('Enter the value of p = ')) \n",
    "q = int(input('Enter the value of q = ')) \n",
    "no = int(input('Enter the value of text = ')) \n",
    "n = p*q \n",
    "t = (p-1)*(q-1) \n",
    "\n",
    "for e in range(2,t): \n",
    "\tif gcd(e,t)== 1: \n",
    "\t\tbreak\n",
    "\n",
    "\n",
    "for i in range(1,10): \n",
    "\tx = 1 + i*t \n",
    "\tif x % e == 0: \n",
    "\t\td = int(x/e) \n",
    "\t\tbreak\n",
    "ctt = Decimal(0) \n",
    "ctt =pow(no,e) \n",
    "ct = ctt % n \n",
    "\n",
    "dtt = Decimal(0) \n",
    "dtt = pow(ct,d) \n",
    "dt = dtt % n \n",
    "\n",
    "print('n = '+str(n)+' e = '+str(e)+' t = '+str(t)+' d = '+str(d)+' cipher text = '+str(ct)+' decrypted text = '+str(dt)) \n"
   ]
  },
  {
   "cell_type": "code",
   "execution_count": null,
   "metadata": {},
   "outputs": [],
   "source": []
  },
  {
   "cell_type": "code",
   "execution_count": null,
   "metadata": {},
   "outputs": [],
   "source": []
  }
 ],
 "metadata": {
  "kernelspec": {
   "display_name": "Python 3",
   "language": "python",
   "name": "python3"
  },
  "language_info": {
   "codemirror_mode": {
    "name": "ipython",
    "version": 3
   },
   "file_extension": ".py",
   "mimetype": "text/x-python",
   "name": "python",
   "nbconvert_exporter": "python",
   "pygments_lexer": "ipython3",
   "version": "3.6.10"
  }
 },
 "nbformat": 4,
 "nbformat_minor": 4
}
