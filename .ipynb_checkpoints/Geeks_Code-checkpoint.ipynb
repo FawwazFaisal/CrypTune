{
 "cells": [
  {
   "cell_type": "code",
   "execution_count": null,
   "metadata": {},
   "outputs": [],
   "source": [
    "# Write Python3 code here \n",
    "from decimal import Decimal \n",
    "\n",
    "def gcd(a,b): \n",
    "\tif b==0: \n",
    "\t\treturn a \n",
    "\telse: \n",
    "\t\treturn gcd(b,a%b) \n",
    "p = int(input('Enter the value of p = ')) \n",
    "q = int(input('Enter the value of q = ')) \n",
    "no = int(input('Enter the value of text = ')) \n",
    "n = p*q \n",
    "print(n)\n",
    "t = (p-1)*(q-1) \n",
    "print(t)\n",
    "\n",
    "for e in range(2,t): \n",
    "\tif gcd(e,t)== 1: \n",
    "\t\tbreak\n",
    "\n",
    "\n",
    "for i in range(1,10): \n",
    "\tx = 1 + i*t \n",
    "    print(x)\n",
    "\tif x % e == 0: \n",
    "\t\td = int(x/e) \n",
    "        print(d)\n",
    "\t\tbreak\n",
    "        \n",
    "ctt = Decimal(0) \n",
    "ctt =pow(no,e) \n",
    "ct = ctt % n \n",
    "\n",
    "dtt = Decimal(0) \n",
    "dtt = pow(ct,d) \n",
    "dt = dtt % n \n",
    "\n",
    "print('n = '+str(n)+' e = '+str(e)+' t = '+str(t)+' d = '+str(d)+' cipher text = '+str(ct)+' decrypted text = '+str(dt)) \n"
   ]
  }
 ],
 "metadata": {
  "kernelspec": {
   "display_name": "Python 3",
   "language": "python",
   "name": "python3"
  },
  "language_info": {
   "codemirror_mode": {
    "name": "ipython",
    "version": 3
   },
   "file_extension": ".py",
   "mimetype": "text/x-python",
   "name": "python",
   "nbconvert_exporter": "python",
   "pygments_lexer": "ipython3",
   "version": "3.6.10"
  }
 },
 "nbformat": 4,
 "nbformat_minor": 4
}
